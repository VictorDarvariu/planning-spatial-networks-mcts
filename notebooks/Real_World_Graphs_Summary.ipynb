{
 "cells": [
  {
   "cell_type": "code",
   "execution_count": null,
   "metadata": {
    "pycharm": {
     "name": "#%%\n"
    }
   },
   "outputs": [],
   "source": [
    "import os\n",
    "import sys\n",
    "\n",
    "module_path = os.path.abspath(os.path.join('..'))\n",
    "if module_path not in sys.path:\n",
    "    sys.path.append(module_path)"
   ]
  },
  {
   "cell_type": "code",
   "execution_count": null,
   "metadata": {
    "scrolled": true,
    "pycharm": {
     "name": "#%%\n"
    }
   },
   "outputs": [],
   "source": [
    "import platform\n",
    "import matplotlib as mpl\n",
    "import random\n",
    "from copy import copy\n",
    "import re\n",
    "\n",
    "import matplotlib.animation\n",
    "import matplotlib.pyplot as plt\n",
    "import seaborn as sns\n",
    "import pandas as pd\n",
    "import numpy as np\n",
    "import scipy as sp\n",
    "\n",
    "from pathlib import Path\n",
    "\n",
    "from relnet.agent.baseline.baseline_agent import *\n",
    "from relnet.evaluation.storage import EvaluationStorage\n",
    "from relnet.evaluation.experiment_conditions import *\n",
    "from relnet.evaluation.file_paths import FilePaths\n",
    "from relnet.visualization import *\n",
    "\n",
    "from relnet.state.network_generators import *\n",
    "from relnet.state.geometric_network_generators import *\n",
    "\n",
    "generators_considered = [GeometricInternetTopologyNetworkGenerator, GeometricMetroNetworkGenerator]\n",
    "fp = FilePaths('/experiment_data', 'aggregate', setup_directories=False)"
   ]
  },
  {
   "cell_type": "markdown",
   "metadata": {
    "pycharm": {
     "name": "#%% md\n"
    }
   },
   "source": [
    "# Table with basic graph properties "
   ]
  },
  {
   "cell_type": "code",
   "execution_count": null,
   "metadata": {
    "pycharm": {
     "name": "#%%\n"
    }
   },
   "outputs": [],
   "source": [
    "props_rows = []\n",
    "\n",
    "for gen_class in generators_considered:\n",
    "    gen = gen_class(**RealWorldNetworkGenerator.get_default_kwargs())\n",
    "    gen_name = gen.name\n",
    "    for i in range(gen.num_graphs):\n",
    "        entry = {}\n",
    "        if i == 0:\n",
    "            entry['gen'] = gen_name\n",
    "        else:\n",
    "            entry['gen'] = \"\"\n",
    "        entry['graph_name'] = gen.graph_names[i]\n",
    "        for k, v in gen.graph_props[i].items():\n",
    "            entry[k] = v\n",
    "        \n",
    "        props_rows.append(entry)\n",
    "\n",
    "cols_order = ['gen', 'graph_name', 'num_nodes', 'num_edges']\n",
    "props_df = pd.DataFrame(props_rows)\n",
    "props_df = props_df[cols_order]\n",
    "props_df.reset_index(drop=True, inplace=True)\n",
    "props_df.head(20)"
   ]
  },
  {
   "cell_type": "code",
   "execution_count": null,
   "metadata": {
    "pycharm": {
     "name": "#%%\n"
    }
   },
   "outputs": [],
   "source": [
    "props_df.replace(network_generator_display_names, inplace=True)\n",
    "filename = 'rw_graph_metadata.tex'\n",
    "texfile =  str(fp.figures_dir / filename)\n",
    "fh = open(texfile, 'w')\n",
    "table_colformat = f\"cccc\"\n",
    "props_df.to_latex(buf=fh, column_format=table_colformat, index=False)\n",
    "fh.close()"
   ]
  },
  {
   "cell_type": "code",
   "execution_count": null,
   "metadata": {
    "pycharm": {
     "name": "#%%\n"
    }
   },
   "outputs": [],
   "source": [
    "replace_dict = {\n",
    "        r\"gen\": r\"Dataset\",\n",
    "        r\"graph\\\\_name\": r\"Graph\",\n",
    "        r\"num\\\\_nodes\": r\"$|V|$\",\n",
    "        r\"num\\\\_edges\": r\"$|E|$\",\n",
    "    }\n",
    "\n",
    "with open(texfile, 'r') as f:\n",
    "    raw_content = f.read()\n",
    "\n",
    "processed_content = raw_content\n",
    "for orig, targ in replace_dict.items():\n",
    "    processed_content = re.sub(orig, targ, processed_content, flags = re.M)\n",
    "\n",
    "with open(texfile, 'w') as g:\n",
    "    g.write(processed_content)"
   ]
  }
 ],
 "metadata": {
  "kernelspec": {
   "display_name": "Python 3",
   "language": "python",
   "name": "python3"
  },
  "language_info": {
   "codemirror_mode": {
    "name": "ipython",
    "version": 3
   },
   "file_extension": ".py",
   "mimetype": "text/x-python",
   "name": "python",
   "nbconvert_exporter": "python",
   "pygments_lexer": "ipython3",
   "version": "3.7.3"
  }
 },
 "nbformat": 4,
 "nbformat_minor": 2
}