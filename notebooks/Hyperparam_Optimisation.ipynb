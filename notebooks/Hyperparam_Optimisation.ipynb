{
 "cells": [
  {
   "cell_type": "code",
   "execution_count": null,
   "metadata": {
    "pycharm": {
     "name": "#%%\n"
    }
   },
   "outputs": [],
   "source": [
    "import os\n",
    "import sys\n",
    "import pandas as pd\n",
    "import seaborn as sns\n",
    "import matplotlib as mpl\n",
    "import matplotlib.pyplot as plt\n",
    "sns.set()\n",
    "\n",
    "module_path = os.path.abspath(os.path.join('..'))\n",
    "if module_path not in sys.path:\n",
    "    sys.path.append(module_path)"
   ]
  },
  {
   "cell_type": "code",
   "execution_count": null,
   "metadata": {
    "scrolled": true,
    "pycharm": {
     "name": "#%%\n"
    }
   },
   "outputs": [],
   "source": [
    "from relnet.evaluation.storage import EvaluationStorage\n",
    "from relnet.evaluation.file_paths import FilePaths\n",
    "from relnet.agent.mcts.mcts_agent import MonteCarloTreeSearchAgent\n",
    "\n",
    "\n",
    "algorithm_class = 'planning'\n",
    "experiment_id = 'prelim_kh_25'\n",
    "\n",
    "\n",
    "storage = EvaluationStorage()\n",
    "fp = FilePaths('/experiment_data', 'aggregate')\n",
    "\n",
    "agent_hyperparam_dfs = {}\n",
    "param_spaces, df = storage.get_hyperparameter_optimisation_data(algorithm_class, experiment_id, {}, train_individually=False)\n",
    "\n",
    "latest_experiment = storage.get_experiment_details(algorithm_class, experiment_id)\n",
    "agent_names = latest_experiment[\"agents\"]\n",
    "network_generators = latest_experiment[\"network_generators\"]\n",
    "objective_functions = latest_experiment[\"objective_functions\"]\n",
    "\n",
    "for agent_name in set(df['agent_name']):\n",
    "    expanded_data = []\n",
    "    for objective_function in objective_functions:\n",
    "        subset = df[(df['agent_name'] == agent_name) & (df['objective_function'] == objective_function)]\n",
    "        subset.drop(columns=['agent_name'])\n",
    "\n",
    "        for idx, row in subset.iterrows():\n",
    "            row_copy = dict(row)\n",
    "            hyperparams_id = row['hyperparams_id']\n",
    "            hyperparams = param_spaces[objective_function][agent_name][hyperparams_id]\n",
    "            row_copy.update(hyperparams)\n",
    "            expanded_data.append(row_copy)\n",
    "    \n",
    "    hyp_df = pd.DataFrame(expanded_data).drop(columns=['hyperparams_id'])\n",
    "    hyp_df[\"adjust_C_p\"] = hyp_df[\"adjust_C_p\"].astype(int)\n",
    "    agent_hyperparam_dfs[agent_name] = hyp_df\n",
    "\n"
   ]
  },
  {
   "cell_type": "code",
   "execution_count": null,
   "metadata": {
    "pycharm": {
     "name": "#%%\n"
    }
   },
   "outputs": [],
   "source": [
    "for agent_name in agent_names:\n",
    "    if agent_name not in agent_hyperparam_dfs:\n",
    "        continue\n",
    "    hyperparams_df = agent_hyperparam_dfs[agent_name]\n",
    "    separate_per_budgets = False\n",
    "\n",
    "    for network_generator in network_generators:\n",
    "        for objective_function in objective_functions:  \n",
    "            filtered_df = hyperparams_df[(hyperparams_df['network_generator'] == network_generator) &\n",
    "                                        (hyperparams_df['objective_function'] == objective_function)]\n",
    "\n",
    "            non_hyp_cols = {\"agent_name\", \"avg_reward\", \"ar_fun\", \"ar_modifier\", \"network_generator\", \"objective_function\", \"graph_id\", \"rollout_depth\", \"adjust_C_p\"}\n",
    "            hyperparam_cols = list(set(hyperparams_df.columns) - non_hyp_cols)\n",
    "            for hyperparam_name in hyperparam_cols:\n",
    "                plt.figure()\n",
    "                title = f\"{agent_name}-{network_generator}-{objective_function}-{hyperparam_name}-all\"\n",
    "                filename = f\"{experiment_id}-hyperparams-{title}.pdf\"\n",
    "                plt.title(title)\n",
    "                sns.lineplot(data=filtered_df, x=hyperparam_name, y=\"avg_reward\")\n",
    "                plt.savefig(fp.figures_dir / filename, bbox_inches='tight')\n",
    "                plt.close()\n",
    "\n",
    "            if separate_per_budgets:\n",
    "                budgets = sorted(list(set(hyperparams_df['expansion_budget_modifier'])))\n",
    "                for hyperparam_name in hyperparam_cols:\n",
    "                    for budget in budgets:\n",
    "                        budget_filtered_df = filtered_df[filtered_df[\"expansion_budget_modifier\"] == budget]\n",
    "                        print(f\"doing col {hyperparam_name}\")\n",
    "                        plt.figure()\n",
    "                        title = f\"{agent_name}-{network_generator}-{objective_function}-{hyperparam_name}-{budget}\"\n",
    "                        filename = f\"{experiment_id}-hyperparams-{title}.pdf\"\n",
    "                        plt.title(title)\n",
    "                        sns.lineplot(data=budget_filtered_df, x=hyperparam_name, y=\"avg_reward\")\n",
    "                        plt.savefig(fp.figures_dir / filename, bbox_inches='tight')\n",
    "                        plt.close()\n",
    "\n",
    "            "
   ]
  },
  {
   "cell_type": "code",
   "execution_count": null,
   "metadata": {
    "pycharm": {
     "name": "#%%\n"
    }
   },
   "outputs": [],
   "source": []
  }
 ],
 "metadata": {
  "kernelspec": {
   "display_name": "Python 3",
   "language": "python",
   "name": "python3"
  },
  "language_info": {
   "codemirror_mode": {
    "name": "ipython",
    "version": 3
   },
   "file_extension": ".py",
   "mimetype": "text/x-python",
   "name": "python",
   "nbconvert_exporter": "python",
   "pygments_lexer": "ipython3",
   "version": "3.7.3"
  }
 },
 "nbformat": 4,
 "nbformat_minor": 2
}