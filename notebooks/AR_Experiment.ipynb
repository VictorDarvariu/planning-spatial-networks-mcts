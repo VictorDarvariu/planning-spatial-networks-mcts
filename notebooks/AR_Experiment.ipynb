{
 "cells": [
  {
   "cell_type": "code",
   "execution_count": null,
   "metadata": {},
   "outputs": [],
   "source": [
    "import os\n",
    "import sys\n",
    "\n",
    "module_path = os.path.abspath(os.path.join('..'))\n",
    "if module_path not in sys.path:\n",
    "    sys.path.append(module_path)"
   ]
  },
  {
   "cell_type": "code",
   "execution_count": null,
   "metadata": {},
   "outputs": [],
   "source": [
    "def get_file_paths(exp_id):\n",
    "    parent_dir = '/experiment_data'\n",
    "    file_paths = FilePaths(parent_dir, exp_id, setup_directories=False)\n",
    "    return file_paths"
   ]
  },
  {
   "cell_type": "code",
   "execution_count": null,
   "metadata": {},
   "outputs": [],
   "source": [
    "import pandas as pd\n",
    "import numpy as np\n",
    "import scipy as sp\n",
    "import matplotlib.pyplot as plt\n",
    "import matplotlib as mpl\n",
    "import seaborn as sns\n",
    "\n",
    "from relnet.evaluation.file_paths import FilePaths\n",
    "from relnet.objective_functions.objective_functions import LargestComponentSizeTargeted, GlobalEfficiency\n",
    "from relnet.visualization import *\n",
    "\n",
    "dims = (16.54, 6.20)\n",
    "sns.set(font_scale=2.25)\n",
    "plt.rcParams[\"lines.linewidth\"] = 4\n",
    "plt.rc('font', family='serif')\n",
    "set_latex_if_required()\n",
    "\n",
    "pad = 2.5\n",
    "\n",
    "obj_funs = [GlobalEfficiency(), LargestComponentSizeTargeted()]\n",
    "num_seeds = 1000\n",
    "\n",
    "\n",
    "exp_id = 'ar_test'\n",
    "fp = get_file_paths(exp_id)\n",
    "csv_in = fp.figures_dir / f\"R_data_{num_seeds}.csv\"\n",
    "\n",
    "df = pd.read_csv(csv_in, usecols=[1,2,3,4])\n",
    "ns = [25, 50, 75]\n",
    "\n"
   ]
  },
  {
   "cell_type": "code",
   "execution_count": null,
   "metadata": {},
   "outputs": [],
   "source": [
    "df.head(5)"
   ]
  },
  {
   "cell_type": "code",
   "execution_count": null,
   "metadata": {},
   "outputs": [],
   "source": [
    "cols = ns\n",
    "rows = [obj_fun.name for obj_fun in obj_funs]\n",
    "\n",
    "fig, axes = plt.subplots(len(obj_funs), len(ns), figsize=dims, squeeze=False)\n",
    "fig.tight_layout()\n",
    "#plt.subplots_adjust(wspace=0.3) #, hspace=None)\n",
    "\n",
    "for i, obj_fun in enumerate(obj_funs):\n",
    "    for j, n in enumerate(ns):\n",
    "        g_df = pd.DataFrame(df[(df['obj_fun'] == obj_fun.name) & (df['g_size'] == n)])\n",
    "        \n",
    "        R_dist_df = pd.DataFrame(g_df.groupby('seed', group_keys=False).apply(lambda df: df.sample(1)))\n",
    "        R_data = np.array(R_dist_df[\"R\"])\n",
    "        \n",
    "        axes[i][j].scatter(R_data, [0 for _ in range(len(R_data))], s=8, c=\".1\")\n",
    "        sns.kdeplot(data=R_data, ax=axes[i][j])\n",
    "        axes[i][j].set_ylim(bottom=-1)\n",
    "\n",
    "        if j==0:\n",
    "            axes[i][j].set_ylabel(\"Est. Density\")\n",
    "        axes[i][j].set_xlabel(\"R\")\n",
    "    \n",
    "for ax, col in zip(axes[0], cols):\n",
    "    ax.annotate(f\"$N =$ {col}\",\n",
    "                xy=(0.5, 1), xytext=(0, pad),\n",
    "                xycoords='axes fraction', textcoords='offset points',\n",
    "                size='medium', ha='center', va='baseline')\n",
    "    \n",
    "for ax, row in zip(axes[:, 0], rows):\n",
    "    ax.annotate(f\"{objective_function_display_names[row]}\", xy=(0, 0.5), xytext=(-ax.yaxis.labelpad - pad, 0),\n",
    "                rotation=90,\n",
    "                xycoords=ax.yaxis.label, textcoords='offset points',\n",
    "                size='medium', ha='right', va='center')\n",
    "    \n",
    "fig_file = fp.figures_dir / f'subsets_R_dist.pdf'\n",
    "fig.savefig(fig_file, bbox_inches='tight')\n",
    "plt.close()\n",
    "        "
   ]
  }
 ],
 "metadata": {
  "kernelspec": {
   "display_name": "Python 3",
   "language": "python",
   "name": "python3"
  },
  "language_info": {
   "codemirror_mode": {
    "name": "ipython",
    "version": 3
   },
   "file_extension": ".py",
   "mimetype": "text/x-python",
   "name": "python",
   "nbconvert_exporter": "python",
   "pygments_lexer": "ipython3",
   "version": "3.7.3"
  }
 },
 "nbformat": 4,
 "nbformat_minor": 2
}